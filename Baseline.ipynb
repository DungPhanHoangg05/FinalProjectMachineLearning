{
 "cells": [
  {
   "cell_type": "code",
   "execution_count": 1,
   "metadata": {},
   "outputs": [
    {
     "name": "stdout",
     "output_type": "stream",
     "text": [
      "\n",
      "Test Metrics (Linear Regression Baseline):\n",
      "Mean Absolute Error (MAE): 51660.1228249084\n",
      "Mean Squared Error (MSE): 4998004526.416857\n",
      "R²: 0.6165315505275044\n"
     ]
    }
   ],
   "source": [
    "import pandas as pd\n",
    "import numpy as np\n",
    "from sklearn.linear_model import LinearRegression\n",
    "from sklearn.metrics import mean_absolute_error, mean_squared_error, r2_score\n",
    "from sklearn.preprocessing import StandardScaler\n",
    "\n",
    "train_data = pd.read_csv('train_data.csv')\n",
    "val_data = pd.read_csv('val_data.csv')\n",
    "test_data = pd.read_csv('test_data.csv')\n",
    "\n",
    "X_train = train_data.drop(columns=['median_house_value'])\n",
    "y_train = train_data['median_house_value']\n",
    "\n",
    "X_val = val_data.drop(columns=['median_house_value'])\n",
    "y_val = val_data['median_house_value']\n",
    "\n",
    "X_test = test_data.drop(columns=['median_house_value'])\n",
    "y_test = test_data['median_house_value']\n",
    "\n",
    "lr = LinearRegression()\n",
    "lr.fit(X_train, y_train)\n",
    "\n",
    "y_test_pred = lr.predict(X_test)\n",
    "test_mae = mean_absolute_error(y_test, y_test_pred)\n",
    "test_mse = mean_squared_error(y_test, y_test_pred)\n",
    "test_r2 = r2_score(y_test, y_test_pred)\n",
    "\n",
    "print(\"\\nTest Metrics (Linear Regression Baseline):\")\n",
    "print(f\"Mean Absolute Error (MAE): {test_mae}\")\n",
    "print(f\"Mean Squared Error (MSE): {test_mse}\")\n",
    "print(f\"R²: {test_r2}\")\n"
   ]
  }
 ],
 "metadata": {
  "kernelspec": {
   "display_name": "Python 3",
   "language": "python",
   "name": "python3"
  },
  "language_info": {
   "codemirror_mode": {
    "name": "ipython",
    "version": 3
   },
   "file_extension": ".py",
   "mimetype": "text/x-python",
   "name": "python",
   "nbconvert_exporter": "python",
   "pygments_lexer": "ipython3",
   "version": "3.12.2"
  }
 },
 "nbformat": 4,
 "nbformat_minor": 2
}
